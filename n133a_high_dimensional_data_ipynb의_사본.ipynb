{
  "nbformat": 4,
  "nbformat_minor": 0,
  "metadata": {
    "colab": {
      "name": "n133a-high-dimensional-data.ipynb의 사본",
      "provenance": [],
      "collapsed_sections": [],
      "include_colab_link": true
    },
    "kernelspec": {
      "name": "python3",
      "display_name": "Python 3"
    }
  },
  "cells": [
    {
      "cell_type": "markdown",
      "metadata": {
        "id": "view-in-github",
        "colab_type": "text"
      },
      "source": [
        "<a href=\"https://colab.research.google.com/github/jiyoung-99/boiler-plate-node/blob/master/n133a_high_dimensional_data_ipynb%EC%9D%98_%EC%82%AC%EB%B3%B8.ipynb\" target=\"_parent\"><img src=\"https://colab.research.google.com/assets/colab-badge.svg\" alt=\"Open In Colab\"/></a>"
      ]
    },
    {
      "cell_type": "markdown",
      "metadata": {
        "id": "2nEWvwVyVWdW"
      },
      "source": [
        "<img src='https://i.imgur.com/RDAD11M.png' width = '200' align = 'right'>\n",
        "\n",
        "## *DATA SCIENCE / SECTION 1 / SPRINT 3 / NOTE 3*\n",
        "\n",
        "# 📝 Assignment\n",
        "\n"
      ]
    },
    {
      "cell_type": "markdown",
      "metadata": {
        "id": "5HY0R4u7anIr"
      },
      "source": [
        "## 1. 주어진 matrix에 대해서, numpy를 사용하여, `eigenvalue`와 `eigenvector`를 구하세요.\n",
        "\n",
        "\\begin{bmatrix} 4 & 2 \\\\ 2 & 4 \\end{bmatrix}"
      ]
    },
    {
      "cell_type": "code",
      "metadata": {
        "id": "HDqmKGFS21PD"
      },
      "source": [
        "import pandas as pd\n",
        "import numpy as np\n",
        "import seaborn as sns\n",
        "import matplotlib.pyplot as plt \n",
        "from numpy.linalg import eig"
      ],
      "execution_count": 12,
      "outputs": []
    },
    {
      "cell_type": "code",
      "metadata": {
        "colab": {
          "base_uri": "https://localhost:8080/"
        },
        "id": "M52nYK3LEb06",
        "outputId": "9e885d01-c02e-420c-a626-76a25cdcb023"
      },
      "source": [
        "matrix = np.array([[4, 2],\n",
        "                   [2, 4]])\n",
        "print(matrix)\n",
        "means = np.mean(matrix.T, axis=1)\n",
        "print(means)\n",
        "# 각 행에서 평균을 뺌\n",
        "centering_data = matrix - means\n",
        "print(centering_data)\n",
        "stds = np.std(matrix.T, axis=1)\n",
        "print(stds)\n",
        "# 각 행과 표준편차를 나누어줌\n",
        "standardized_data = centering_data/stds\n",
        "print(standardized_data)\n",
        "# 공분산\n",
        "covs = np.cov(centering_data.T)\n",
        "print(covs)\n",
        "# 고유값, 고유벡터\n",
        "values, vectors = eig(covs)\n",
        "print('eigenvalue', values)\n",
        "print('eigenvector', vectors)"
      ],
      "execution_count": 14,
      "outputs": [
        {
          "output_type": "stream",
          "text": [
            "[[4 2]\n",
            " [2 4]]\n",
            "[3. 3.]\n",
            "[[ 1. -1.]\n",
            " [-1.  1.]]\n",
            "[1. 1.]\n",
            "[[ 1. -1.]\n",
            " [-1.  1.]]\n",
            "[[ 2. -2.]\n",
            " [-2.  2.]]\n",
            "eigenvalue [4.0000000e+00 4.4408921e-16]\n",
            "eigenvector [[ 0.70710678  0.70710678]\n",
            " [-0.70710678  0.70710678]]\n"
          ],
          "name": "stdout"
        }
      ]
    },
    {
      "cell_type": "markdown",
      "metadata": {
        "id": "7iEheetpbJdN"
      },
      "source": [
        "## 2. penguins dataset을 사용하여 numerical feature 6개에 대해서 pca를 시행, 이후 pc1-pc2를 사용하여 scatter plot을 그리세요.\n",
        "\n",
        "<img src='https://github.com/allisonhorst/palmerpenguins/raw/master/man/figures/lter_penguins.png' width = 450>\n",
        "\n",
        "- [Palmer-penguins](https://github.com/allisonhorst/palmerpenguins) \n",
        "\n",
        "데이터셋 사용을 위해, 다음 링크를 참조하세요.\n",
        "\n",
        "<http://seaborn.pydata.org/generated/seaborn.load_dataset.html#seaborn.load_dataset>\n",
        "\n"
      ]
    },
    {
      "cell_type": "code",
      "metadata": {
        "id": "WAJ8bjVcEwhA",
        "colab": {
          "base_uri": "https://localhost:8080/"
        },
        "outputId": "d2f75bc1-cc80-4799-a98c-115b6c81a578"
      },
      "source": [
        "!pip install palmerpenguins\n"
      ],
      "execution_count": 19,
      "outputs": [
        {
          "output_type": "stream",
          "text": [
            "Collecting palmerpenguins\n",
            "  Downloading https://files.pythonhosted.org/packages/23/78/d81191d1faf9c41e8707eb0c08dc6d489157bfa42faad62e0ab90c37ebbc/palmerpenguins-0.1.4-py3-none-any.whl\n",
            "Requirement already satisfied: numpy in /usr/local/lib/python3.6/dist-packages (from palmerpenguins) (1.19.5)\n",
            "Requirement already satisfied: pandas in /usr/local/lib/python3.6/dist-packages (from palmerpenguins) (1.1.5)\n",
            "Requirement already satisfied: python-dateutil>=2.7.3 in /usr/local/lib/python3.6/dist-packages (from pandas->palmerpenguins) (2.8.1)\n",
            "Requirement already satisfied: pytz>=2017.2 in /usr/local/lib/python3.6/dist-packages (from pandas->palmerpenguins) (2018.9)\n",
            "Requirement already satisfied: six>=1.5 in /usr/local/lib/python3.6/dist-packages (from python-dateutil>=2.7.3->pandas->palmerpenguins) (1.15.0)\n",
            "Installing collected packages: palmerpenguins\n",
            "Successfully installed palmerpenguins-0.1.4\n"
          ],
          "name": "stdout"
        }
      ]
    },
    {
      "cell_type": "code",
      "metadata": {
        "id": "Rco35BcbSOhJ"
      },
      "source": [
        "from palmerpenguins import load_penguins\n",
        "sns.set_style('whitegrid')"
      ],
      "execution_count": 20,
      "outputs": []
    },
    {
      "cell_type": "code",
      "metadata": {
        "colab": {
          "base_uri": "https://localhost:8080/",
          "height": 359
        },
        "id": "eLM8-PQESSVz",
        "outputId": "f4e6c232-10db-4b8c-e53a-64b6c1d1cadc"
      },
      "source": [
        "penguins = load_penguins().dropna()\n",
        "penguins.head(10)"
      ],
      "execution_count": 39,
      "outputs": [
        {
          "output_type": "execute_result",
          "data": {
            "text/html": [
              "<div>\n",
              "<style scoped>\n",
              "    .dataframe tbody tr th:only-of-type {\n",
              "        vertical-align: middle;\n",
              "    }\n",
              "\n",
              "    .dataframe tbody tr th {\n",
              "        vertical-align: top;\n",
              "    }\n",
              "\n",
              "    .dataframe thead th {\n",
              "        text-align: right;\n",
              "    }\n",
              "</style>\n",
              "<table border=\"1\" class=\"dataframe\">\n",
              "  <thead>\n",
              "    <tr style=\"text-align: right;\">\n",
              "      <th></th>\n",
              "      <th>species</th>\n",
              "      <th>island</th>\n",
              "      <th>bill_length_mm</th>\n",
              "      <th>bill_depth_mm</th>\n",
              "      <th>flipper_length_mm</th>\n",
              "      <th>body_mass_g</th>\n",
              "      <th>sex</th>\n",
              "      <th>year</th>\n",
              "    </tr>\n",
              "  </thead>\n",
              "  <tbody>\n",
              "    <tr>\n",
              "      <th>0</th>\n",
              "      <td>Adelie</td>\n",
              "      <td>Torgersen</td>\n",
              "      <td>39.1</td>\n",
              "      <td>18.7</td>\n",
              "      <td>181.0</td>\n",
              "      <td>3750.0</td>\n",
              "      <td>male</td>\n",
              "      <td>2007</td>\n",
              "    </tr>\n",
              "    <tr>\n",
              "      <th>1</th>\n",
              "      <td>Adelie</td>\n",
              "      <td>Torgersen</td>\n",
              "      <td>39.5</td>\n",
              "      <td>17.4</td>\n",
              "      <td>186.0</td>\n",
              "      <td>3800.0</td>\n",
              "      <td>female</td>\n",
              "      <td>2007</td>\n",
              "    </tr>\n",
              "    <tr>\n",
              "      <th>2</th>\n",
              "      <td>Adelie</td>\n",
              "      <td>Torgersen</td>\n",
              "      <td>40.3</td>\n",
              "      <td>18.0</td>\n",
              "      <td>195.0</td>\n",
              "      <td>3250.0</td>\n",
              "      <td>female</td>\n",
              "      <td>2007</td>\n",
              "    </tr>\n",
              "    <tr>\n",
              "      <th>4</th>\n",
              "      <td>Adelie</td>\n",
              "      <td>Torgersen</td>\n",
              "      <td>36.7</td>\n",
              "      <td>19.3</td>\n",
              "      <td>193.0</td>\n",
              "      <td>3450.0</td>\n",
              "      <td>female</td>\n",
              "      <td>2007</td>\n",
              "    </tr>\n",
              "    <tr>\n",
              "      <th>5</th>\n",
              "      <td>Adelie</td>\n",
              "      <td>Torgersen</td>\n",
              "      <td>39.3</td>\n",
              "      <td>20.6</td>\n",
              "      <td>190.0</td>\n",
              "      <td>3650.0</td>\n",
              "      <td>male</td>\n",
              "      <td>2007</td>\n",
              "    </tr>\n",
              "    <tr>\n",
              "      <th>6</th>\n",
              "      <td>Adelie</td>\n",
              "      <td>Torgersen</td>\n",
              "      <td>38.9</td>\n",
              "      <td>17.8</td>\n",
              "      <td>181.0</td>\n",
              "      <td>3625.0</td>\n",
              "      <td>female</td>\n",
              "      <td>2007</td>\n",
              "    </tr>\n",
              "    <tr>\n",
              "      <th>7</th>\n",
              "      <td>Adelie</td>\n",
              "      <td>Torgersen</td>\n",
              "      <td>39.2</td>\n",
              "      <td>19.6</td>\n",
              "      <td>195.0</td>\n",
              "      <td>4675.0</td>\n",
              "      <td>male</td>\n",
              "      <td>2007</td>\n",
              "    </tr>\n",
              "    <tr>\n",
              "      <th>12</th>\n",
              "      <td>Adelie</td>\n",
              "      <td>Torgersen</td>\n",
              "      <td>41.1</td>\n",
              "      <td>17.6</td>\n",
              "      <td>182.0</td>\n",
              "      <td>3200.0</td>\n",
              "      <td>female</td>\n",
              "      <td>2007</td>\n",
              "    </tr>\n",
              "    <tr>\n",
              "      <th>13</th>\n",
              "      <td>Adelie</td>\n",
              "      <td>Torgersen</td>\n",
              "      <td>38.6</td>\n",
              "      <td>21.2</td>\n",
              "      <td>191.0</td>\n",
              "      <td>3800.0</td>\n",
              "      <td>male</td>\n",
              "      <td>2007</td>\n",
              "    </tr>\n",
              "    <tr>\n",
              "      <th>14</th>\n",
              "      <td>Adelie</td>\n",
              "      <td>Torgersen</td>\n",
              "      <td>34.6</td>\n",
              "      <td>21.1</td>\n",
              "      <td>198.0</td>\n",
              "      <td>4400.0</td>\n",
              "      <td>male</td>\n",
              "      <td>2007</td>\n",
              "    </tr>\n",
              "  </tbody>\n",
              "</table>\n",
              "</div>"
            ],
            "text/plain": [
              "   species     island  bill_length_mm  ...  body_mass_g     sex  year\n",
              "0   Adelie  Torgersen            39.1  ...       3750.0    male  2007\n",
              "1   Adelie  Torgersen            39.5  ...       3800.0  female  2007\n",
              "2   Adelie  Torgersen            40.3  ...       3250.0  female  2007\n",
              "4   Adelie  Torgersen            36.7  ...       3450.0  female  2007\n",
              "5   Adelie  Torgersen            39.3  ...       3650.0    male  2007\n",
              "6   Adelie  Torgersen            38.9  ...       3625.0  female  2007\n",
              "7   Adelie  Torgersen            39.2  ...       4675.0    male  2007\n",
              "12  Adelie  Torgersen            41.1  ...       3200.0  female  2007\n",
              "13  Adelie  Torgersen            38.6  ...       3800.0    male  2007\n",
              "14  Adelie  Torgersen            34.6  ...       4400.0    male  2007\n",
              "\n",
              "[10 rows x 8 columns]"
            ]
          },
          "metadata": {
            "tags": []
          },
          "execution_count": 39
        }
      ]
    },
    {
      "cell_type": "code",
      "metadata": {
        "colab": {
          "base_uri": "https://localhost:8080/",
          "height": 204
        },
        "id": "HELF_v9HSdm-",
        "outputId": "20bba041-ccb8-4107-876d-12d00a997a31"
      },
      "source": [
        "penguins_data = penguins.select_dtypes(np.number)\n",
        "penguins_data = penguins_data.drop('year', axis=1)\n",
        "penguins_data.head()"
      ],
      "execution_count": 40,
      "outputs": [
        {
          "output_type": "execute_result",
          "data": {
            "text/html": [
              "<div>\n",
              "<style scoped>\n",
              "    .dataframe tbody tr th:only-of-type {\n",
              "        vertical-align: middle;\n",
              "    }\n",
              "\n",
              "    .dataframe tbody tr th {\n",
              "        vertical-align: top;\n",
              "    }\n",
              "\n",
              "    .dataframe thead th {\n",
              "        text-align: right;\n",
              "    }\n",
              "</style>\n",
              "<table border=\"1\" class=\"dataframe\">\n",
              "  <thead>\n",
              "    <tr style=\"text-align: right;\">\n",
              "      <th></th>\n",
              "      <th>bill_length_mm</th>\n",
              "      <th>bill_depth_mm</th>\n",
              "      <th>flipper_length_mm</th>\n",
              "      <th>body_mass_g</th>\n",
              "    </tr>\n",
              "  </thead>\n",
              "  <tbody>\n",
              "    <tr>\n",
              "      <th>0</th>\n",
              "      <td>39.1</td>\n",
              "      <td>18.7</td>\n",
              "      <td>181.0</td>\n",
              "      <td>3750.0</td>\n",
              "    </tr>\n",
              "    <tr>\n",
              "      <th>1</th>\n",
              "      <td>39.5</td>\n",
              "      <td>17.4</td>\n",
              "      <td>186.0</td>\n",
              "      <td>3800.0</td>\n",
              "    </tr>\n",
              "    <tr>\n",
              "      <th>2</th>\n",
              "      <td>40.3</td>\n",
              "      <td>18.0</td>\n",
              "      <td>195.0</td>\n",
              "      <td>3250.0</td>\n",
              "    </tr>\n",
              "    <tr>\n",
              "      <th>4</th>\n",
              "      <td>36.7</td>\n",
              "      <td>19.3</td>\n",
              "      <td>193.0</td>\n",
              "      <td>3450.0</td>\n",
              "    </tr>\n",
              "    <tr>\n",
              "      <th>5</th>\n",
              "      <td>39.3</td>\n",
              "      <td>20.6</td>\n",
              "      <td>190.0</td>\n",
              "      <td>3650.0</td>\n",
              "    </tr>\n",
              "  </tbody>\n",
              "</table>\n",
              "</div>"
            ],
            "text/plain": [
              "   bill_length_mm  bill_depth_mm  flipper_length_mm  body_mass_g\n",
              "0            39.1           18.7              181.0       3750.0\n",
              "1            39.5           17.4              186.0       3800.0\n",
              "2            40.3           18.0              195.0       3250.0\n",
              "4            36.7           19.3              193.0       3450.0\n",
              "5            39.3           20.6              190.0       3650.0"
            ]
          },
          "metadata": {
            "tags": []
          },
          "execution_count": 40
        }
      ]
    },
    {
      "cell_type": "code",
      "metadata": {
        "id": "wIBKnmVvTBC0"
      },
      "source": [
        "from sklearn.preprocessing import StandardScaler\n",
        "from sklearn.decomposition import PCA"
      ],
      "execution_count": 41,
      "outputs": []
    },
    {
      "cell_type": "code",
      "metadata": {
        "colab": {
          "base_uri": "https://localhost:8080/"
        },
        "id": "h0_ltHfiZHQX",
        "outputId": "b2890595-5fed-40e7-dd44-6a4d08b3a445"
      },
      "source": [
        "scaler = StandardScaler()\n",
        "standard_penguines = scaler.fit_transform(penguins_data)\n",
        "print(\"\\n Standardized Data: \\n\", standard_penguines)\n",
        "pca = PCA(2)\n",
        "pca.fit(standard_penguines)\n",
        "print(\"\\n Eigenvectors(고유벡터): \\n\", pca.components_)\n",
        "print(\"\\n Eigenvalues(고유값): \\n\",pca.explained_variance_)\n",
        "B = pca.transform(standard_penguines)\n",
        "print(\"\\n Projected Data: \\n\", B)"
      ],
      "execution_count": 62,
      "outputs": [
        {
          "output_type": "stream",
          "text": [
            "\n",
            " Standardized Data: \n",
            " [[-0.89604189  0.7807321  -1.42675157 -0.56847478]\n",
            " [-0.82278787  0.11958397 -1.06947358 -0.50628618]\n",
            " [-0.67627982  0.42472926 -0.42637319 -1.1903608 ]\n",
            " ...\n",
            " [ 1.02687621  0.52644436 -0.56928439 -0.53738048]\n",
            " [ 1.24663828  0.93330475  0.64546078 -0.13315457]\n",
            " [ 1.13675725  0.7807321  -0.2120064  -0.53738048]]\n",
            "\n",
            " Eigenvectors(고유벡터): \n",
            " [[ 0.45375317 -0.39904723  0.576825    0.54967471]\n",
            " [ 0.6001949   0.79616951  0.00578817  0.07646366]]\n",
            "\n",
            " Eigenvalues(고유값): \n",
            " [2.75362487 0.7804609 ]\n",
            "\n",
            " Projected Data: \n",
            " [[-1.85359302e+00  3.20693765e-02]\n",
            " [-1.31625406e+00 -4.43526765e-01]\n",
            " [-1.37660509e+00 -1.61230478e-01]\n",
            " [-1.88528838e+00 -1.23512351e-02]\n",
            " [-1.91998074e+00  8.17598126e-01]\n",
            " [-1.77302031e+00 -3.66222957e-01]\n",
            " [-8.18496250e-01  5.01243084e-01]\n",
            " [-1.79895773e+00 -2.45393945e-01]\n",
            " [-1.95614892e+00  9.98282895e-01]\n",
            " [-1.56952316e+00  5.78081948e-01]\n",
            " [-1.74800122e+00 -6.10244291e-01]\n",
            " [-1.57577371e+00  8.68357265e-02]\n",
            " [-8.04720190e-01  1.29355592e+00]\n",
            " [-2.35017809e+00 -6.45191072e-01]\n",
            " [-1.00498645e+00  1.97242251e+00]\n",
            " [-2.40824844e+00 -3.08968645e-01]\n",
            " [-2.11369825e+00 -1.36493144e-01]\n",
            " [-1.85705729e+00 -1.09144060e-01]\n",
            " [-1.50501042e+00 -2.89127997e-01]\n",
            " [-1.58113786e+00 -6.03932517e-01]\n",
            " [-1.92846722e+00 -2.97394981e-01]\n",
            " [-1.76295054e+00  1.38259762e-01]\n",
            " [-1.70361341e+00 -1.87802307e-01]\n",
            " [-2.71417458e+00 -2.01106317e-01]\n",
            " [-1.68232816e+00  2.85542330e-01]\n",
            " [-1.87994963e+00 -7.82580998e-01]\n",
            " [-1.91081367e+00 -4.06695073e-01]\n",
            " [-1.65683258e+00 -3.28286332e-01]\n",
            " [-1.51840291e+00  3.26408242e-01]\n",
            " [-1.44646684e+00 -9.87685263e-01]\n",
            " [-1.44062410e+00  1.05909586e+00]\n",
            " [-1.63466140e+00  5.48223391e-01]\n",
            " [-1.73335112e+00  2.72394506e-01]\n",
            " [-2.40765908e+00  6.73451508e-02]\n",
            " [-1.13764744e+00  3.57809820e-01]\n",
            " [-2.29657080e+00 -5.93801144e-01]\n",
            " [-9.71848773e-01  1.17509989e-01]\n",
            " [-2.30890668e+00 -4.49404139e-01]\n",
            " [-5.78401946e-01  1.05458646e+00]\n",
            " [-2.01067992e+00 -9.97271019e-01]\n",
            " [-8.80262620e-01  2.12079200e-01]\n",
            " [-1.92925587e+00  3.42881528e-01]\n",
            " [-1.78298528e+00 -6.57410953e-01]\n",
            " [-1.40940140e+00  1.43826097e+00]\n",
            " [-1.57392895e+00 -3.39592411e-01]\n",
            " [-1.14654389e+00  2.78170592e-01]\n",
            " [-1.86608339e+00 -7.67327681e-01]\n",
            " [-7.86733863e-01  7.11147080e-01]\n",
            " [-2.44789222e+00 -7.94851225e-01]\n",
            " [-1.26418254e+00  2.43767425e-01]\n",
            " [-1.54901519e+00 -4.81769739e-01]\n",
            " [-1.22044841e+00  2.47154032e-01]\n",
            " [-2.25876529e+00 -1.18962297e+00]\n",
            " [-1.52359256e+00  3.45359658e-02]\n",
            " [-2.01615696e+00 -1.12589726e+00]\n",
            " [-1.13641794e+00  1.31328324e+00]\n",
            " [-1.57091360e+00 -8.33767737e-01]\n",
            " [-9.27431832e-01  8.25272607e-02]\n",
            " [-2.24489579e+00 -9.96917698e-01]\n",
            " [-9.13660651e-01  4.69928294e-02]\n",
            " [-1.34180687e+00 -1.40816257e+00]\n",
            " [-1.24076891e+00  4.50049108e-01]\n",
            " [-1.80093377e+00 -1.23282996e+00]\n",
            " [-5.92025660e-01  6.85886654e-01]\n",
            " [-2.11142026e+00 -4.72533742e-01]\n",
            " [-1.26934357e+00 -5.46639757e-03]\n",
            " [-1.02609887e+00 -5.33157420e-01]\n",
            " [-4.04478774e-01  8.94152813e-01]\n",
            " [-1.57243857e+00 -8.50558396e-01]\n",
            " [-5.86662602e-01  4.11120851e-01]\n",
            " [-9.40429442e-01 -5.40033074e-01]\n",
            " [-1.92733875e+00  1.22172496e-01]\n",
            " [-1.45634863e+00 -1.35600020e+00]\n",
            " [-9.37516173e-01  5.53350680e-01]\n",
            " [-1.96939557e+00 -1.11892242e+00]\n",
            " [-4.68328228e-02  1.00901565e-01]\n",
            " [-1.79183530e+00 -1.84002791e-01]\n",
            " [-1.52578740e+00 -7.63992510e-02]\n",
            " [-1.68181280e+00 -5.64107174e-01]\n",
            " [-1.59639832e+00  9.08101945e-01]\n",
            " [-1.84348437e+00  5.67099175e-02]\n",
            " [-1.85729280e+00 -2.70705718e-01]\n",
            " [-1.55507132e+00  1.68921592e-01]\n",
            " [-1.62210133e+00  4.00341309e-02]\n",
            " [-1.26523377e+00 -6.35421240e-01]\n",
            " [-2.00393880e-01  7.11886336e-02]\n",
            " [-2.02709537e+00 -1.20799740e+00]\n",
            " [-1.00562068e+00 -8.72793004e-02]\n",
            " [-1.87080090e+00 -8.93881281e-01]\n",
            " [-2.64027702e-01  3.63384244e-01]\n",
            " [-1.57962369e+00 -1.19371375e-01]\n",
            " [-6.84823504e-01  1.46252964e-01]\n",
            " [-2.52929467e+00 -1.76228161e+00]\n",
            " [-7.79625987e-01  4.39581247e-01]\n",
            " [-1.59563939e+00 -7.40347063e-01]\n",
            " [-3.86175400e-01  8.69122059e-01]\n",
            " [-1.80101966e+00 -1.27844482e+00]\n",
            " [-1.51265850e+00  4.66837670e-01]\n",
            " [-2.00243546e+00 -2.13819033e-01]\n",
            " [-1.85740516e+00  1.61221992e-01]\n",
            " [-8.48810852e-01 -6.22812685e-01]\n",
            " [-1.71870377e+00  4.77518186e-01]\n",
            " [-1.98479380e+00 -8.20882689e-01]\n",
            " [-2.13534661e-01  7.08300149e-01]\n",
            " [-7.38240082e-01 -9.54490503e-01]\n",
            " [-6.44875034e-01  1.47936161e+00]\n",
            " [-1.48219852e+00 -3.54236566e-01]\n",
            " [-7.39940610e-01  7.53287890e-01]\n",
            " [-1.70321099e+00  9.15253811e-01]\n",
            " [-6.32808164e-01  3.02917228e-01]\n",
            " [-1.84273238e+00 -7.89182569e-01]\n",
            " [-1.60946727e+00  5.72883733e-01]\n",
            " [-1.73484802e+00 -1.06473097e+00]\n",
            " [-1.62792299e+00  1.74301453e-01]\n",
            " [-1.95305685e+00 -9.48638014e-01]\n",
            " [-1.66339271e+00  3.06844796e-01]\n",
            " [-1.82836539e+00 -5.65972121e-01]\n",
            " [-6.70854593e-01  2.24468852e-01]\n",
            " [-1.88191000e+00 -1.59486466e+00]\n",
            " [-8.76999276e-01  3.49638746e-01]\n",
            " [-1.56785175e+00 -4.87347294e-01]\n",
            " [-6.19917518e-01  1.92001813e-01]\n",
            " [-1.60358507e+00 -6.89218352e-01]\n",
            " [ 7.01808888e-02  3.33984567e-01]\n",
            " [-1.66069875e+00 -3.94507052e-01]\n",
            " [-1.13411289e+00  6.57034153e-01]\n",
            " [-1.68043855e+00 -3.20534232e-01]\n",
            " [-7.08387339e-01 -1.48385164e-01]\n",
            " [-1.68833943e+00 -5.51677888e-01]\n",
            " [-9.70355138e-01 -2.16004046e-01]\n",
            " [-1.88183815e+00 -8.89082390e-01]\n",
            " [-1.10935310e+00  7.49111595e-01]\n",
            " [-1.65603365e+00 -1.12119459e+00]\n",
            " [-8.04934115e-01 -1.73395579e-01]\n",
            " [-1.18214807e+00 -5.23204908e-01]\n",
            " [-1.36523239e+00 -4.34095818e-01]\n",
            " [-1.97590114e+00 -2.09674424e+00]\n",
            " [-1.02176382e+00 -4.79069974e-01]\n",
            " [-1.67693429e+00 -1.00189205e+00]\n",
            " [-1.76540033e+00  1.32217563e-02]\n",
            " [-1.11219725e+00  5.38438736e-02]\n",
            " [-2.06481174e+00 -3.89108766e-01]\n",
            " [-1.55660384e+00 -6.95834197e-01]\n",
            " [-1.34524467e+00 -3.48806583e-01]\n",
            " [-1.57336339e+00 -9.58805742e-01]\n",
            " [-6.18303403e-01  2.46934847e-01]\n",
            " [ 1.59356859e+00 -1.34179573e+00]\n",
            " [ 2.89205390e+00  4.64090012e-01]\n",
            " [ 1.55157173e+00 -6.96759932e-01]\n",
            " [ 2.62068561e+00  1.37233188e-02]\n",
            " [ 2.23455895e+00 -5.63287236e-01]\n",
            " [ 1.55889027e+00 -1.17201378e+00]\n",
            " [ 1.45637702e+00 -8.23329213e-01]\n",
            " [ 2.02554963e+00 -3.55648737e-01]\n",
            " [ 1.16950299e+00 -1.57891764e+00]\n",
            " [ 1.81451188e+00 -3.10575391e-01]\n",
            " [ 1.28618821e+00 -1.69540027e+00]\n",
            " [ 2.16995116e+00  2.53134960e-01]\n",
            " [ 1.66843953e+00 -1.18978332e+00]\n",
            " [ 2.50595964e+00 -3.92893307e-01]\n",
            " [ 1.03819687e+00 -8.36838135e-01]\n",
            " [ 2.52237724e+00  1.53089665e-01]\n",
            " [ 9.11480748e-01 -1.70468040e+00]\n",
            " [ 3.08806126e+00 -1.59072567e-02]\n",
            " [ 1.46071532e+00 -7.76714255e-01]\n",
            " [ 2.45853762e+00 -2.01291445e-01]\n",
            " [ 2.81995631e+00 -3.28714403e-01]\n",
            " [ 1.75334566e+00 -8.76120401e-01]\n",
            " [ 1.37704625e+00 -7.80126191e-01]\n",
            " [ 1.62341756e+00 -2.13079172e-01]\n",
            " [ 1.85465371e+00 -1.68481442e+00]\n",
            " [ 1.78304339e+00 -5.13745958e-01]\n",
            " [ 2.32062326e+00 -3.15071902e-01]\n",
            " [ 1.57198405e+00 -6.56470332e-01]\n",
            " [ 2.58027529e+00  4.07762389e-02]\n",
            " [ 2.23324413e+00 -2.83702741e-01]\n",
            " [ 1.17069843e+00 -1.28141516e+00]\n",
            " [ 1.45779016e+00 -8.74674010e-01]\n",
            " [ 3.78701834e+00  1.83601539e+00]\n",
            " [ 2.33349180e+00 -2.98646309e-01]\n",
            " [ 2.14182216e+00  2.55556267e-01]\n",
            " [ 1.59133864e+00 -1.48042442e+00]\n",
            " [ 1.46271619e+00  2.06122550e-01]\n",
            " [ 1.11168166e+00 -1.42616223e+00]\n",
            " [ 1.75972697e+00  3.58655736e-02]\n",
            " [ 7.09891542e-01 -1.56660409e+00]\n",
            " [ 2.71361148e+00  2.96581645e-01]\n",
            " [ 1.24766590e+00 -1.24670723e+00]\n",
            " [ 1.89611421e+00 -2.02401218e-01]\n",
            " [ 2.58249171e+00  3.39509176e-01]\n",
            " [ 1.76453362e+00 -1.29262601e+00]\n",
            " [ 1.15532939e+00 -1.15325176e+00]\n",
            " [ 2.60359333e+00  3.26484463e-01]\n",
            " [ 1.96619306e+00 -1.37531536e+00]\n",
            " [ 1.70292714e+00 -3.10211734e-01]\n",
            " [ 1.63023914e+00 -8.49052487e-01]\n",
            " [ 2.52824538e+00 -6.33769450e-01]\n",
            " [ 1.15735133e+00 -9.75741632e-01]\n",
            " [ 2.47953715e+00 -1.19944640e-01]\n",
            " [ 1.90404533e+00 -7.71411353e-01]\n",
            " [ 1.80265515e+00 -5.15867852e-01]\n",
            " [ 9.99994848e-01 -1.33142706e+00]\n",
            " [ 1.89119896e+00 -6.27629575e-01]\n",
            " [ 9.30919099e-01 -1.14016421e+00]\n",
            " [ 2.77838403e+00  8.63973188e-02]\n",
            " [ 1.07656958e+00 -1.21655353e+00]\n",
            " [ 2.21598059e+00 -5.62234490e-01]\n",
            " [ 1.47355252e+00 -1.11059336e+00]\n",
            " [ 3.37817705e+00  6.89442994e-01]\n",
            " [ 1.83216652e+00 -9.47529000e-01]\n",
            " [ 2.77396146e+00  6.44562815e-01]\n",
            " [ 2.89794904e+00  3.77737157e-01]\n",
            " [ 1.68225824e+00 -1.19992388e+00]\n",
            " [ 2.82297979e+00 -2.51494909e-03]\n",
            " [ 1.73822780e+00 -4.11243001e-01]\n",
            " [ 1.88543725e+00 -2.85343544e-01]\n",
            " [ 2.10338085e+00 -7.79830974e-02]\n",
            " [ 2.02796808e+00 -5.80915426e-01]\n",
            " [ 1.59601675e+00 -5.58889916e-01]\n",
            " [ 2.90496724e+00  1.98243239e-01]\n",
            " [ 1.49289256e+00 -7.74316869e-01]\n",
            " [ 2.77638908e+00  6.09393449e-01]\n",
            " [ 1.73279991e+00 -1.17234318e+00]\n",
            " [ 2.35528428e+00 -2.13839444e-03]\n",
            " [ 1.70570972e+00 -4.73358039e-01]\n",
            " [ 2.69998725e+00  4.27945010e-01]\n",
            " [ 1.61251537e+00 -6.10214911e-01]\n",
            " [ 2.48664340e+00  2.66357334e-01]\n",
            " [ 1.58421835e+00 -1.20655899e+00]\n",
            " [ 2.60478500e+00  9.46598161e-01]\n",
            " [ 1.48255754e+00 -1.14027062e+00]\n",
            " [ 2.65819078e+00 -2.86338576e-01]\n",
            " [ 1.84514307e+00 -8.27905113e-01]\n",
            " [ 2.82194749e+00  9.64088245e-01]\n",
            " [ 1.94077693e+00 -4.13378481e-01]\n",
            " [ 2.62497748e+00  1.00047845e+00]\n",
            " [ 1.49201527e+00 -8.57170341e-01]\n",
            " [ 2.60960622e+00  3.20912437e-01]\n",
            " [ 1.51912978e+00 -8.75767080e-01]\n",
            " [ 2.57359526e+00  2.59869947e-01]\n",
            " [ 1.83678033e+00  1.16188362e-01]\n",
            " [ 2.08569057e+00 -6.46771800e-01]\n",
            " [ 1.29687923e+00 -5.94513353e-01]\n",
            " [ 2.42913431e+00  6.21116375e-01]\n",
            " [ 1.99672542e+00 -3.12558491e-01]\n",
            " [ 3.08946906e+00  1.38569979e+00]\n",
            " [ 1.70781430e+00 -2.42760558e-01]\n",
            " [ 2.86192618e+00 -1.81068897e-01]\n",
            " [ 1.91173444e+00  6.14939272e-03]\n",
            " [ 1.01903506e+00 -1.19945381e+00]\n",
            " [ 2.68593517e+00  6.11780499e-01]\n",
            " [ 1.12616049e+00 -1.31974077e+00]\n",
            " [ 1.97540337e+00 -2.58352741e-01]\n",
            " [ 2.10123089e+00  1.28213706e-03]\n",
            " [ 3.08631267e+00  3.03503990e-01]\n",
            " [ 1.15660747e+00 -8.02661928e-01]\n",
            " [ 2.87996707e+00  6.09944432e-01]\n",
            " [ 1.58107282e+00 -9.75789324e-01]\n",
            " [ 3.47928847e+00  9.17457141e-01]\n",
            " [ 2.68799274e+00  3.16920939e-01]\n",
            " [ 1.99771558e+00 -9.76771459e-01]\n",
            " [ 1.83265107e+00 -7.84509926e-01]\n",
            " [ 2.75150503e+00  2.66555715e-01]\n",
            " [ 1.71385366e+00 -7.25875158e-01]\n",
            " [ 2.01853683e+00  3.36553720e-01]\n",
            " [-7.93836850e-01  5.02297056e-01]\n",
            " [-3.89368970e-01  1.57456101e+00]\n",
            " [-5.15027365e-01  1.57096244e+00]\n",
            " [-1.19537904e+00  7.06041689e-01]\n",
            " [-3.04312640e-01  1.97658038e+00]\n",
            " [-3.26614065e-01  3.64192175e-01]\n",
            " [-1.63592055e+00  5.50237855e-01]\n",
            " [-7.88452183e-02  1.17721487e+00]\n",
            " [-4.70293902e-01  9.15308965e-01]\n",
            " [-4.16818937e-01  1.86122420e+00]\n",
            " [-5.18914090e-01  5.01742105e-01]\n",
            " [-5.78352198e-01  2.07263418e+00]\n",
            " [-7.82308030e-01  3.30433534e-01]\n",
            " [ 3.69588535e-01  1.24385074e+00]\n",
            " [-7.12498702e-01  1.18722739e-01]\n",
            " [-5.94770968e-02  1.68634410e+00]\n",
            " [-8.34897001e-01  1.75334376e+00]\n",
            " [-1.34571116e-01  1.74031931e+00]\n",
            " [-1.06082686e+00  7.69161630e-01]\n",
            " [ 1.08599515e-01  1.00737973e+00]\n",
            " [-1.39779585e+00 -1.86348140e-01]\n",
            " [-6.56046746e-01  5.50241661e-01]\n",
            " [-1.42052018e+00 -4.45944135e-01]\n",
            " [-5.11234668e-01  1.58926869e+00]\n",
            " [-7.90299107e-01  5.06500522e-01]\n",
            " [ 9.04349588e-02  1.61612776e+00]\n",
            " [-3.01545221e-01  1.13821856e+00]\n",
            " [-2.32942707e-01  1.30929055e+00]\n",
            " [-6.86335466e-01  4.69421229e-01]\n",
            " [ 5.57174822e-01  2.15032356e+00]\n",
            " [-1.40654483e+00 -6.70221602e-01]\n",
            " [ 1.75368656e-01  2.60270659e+00]\n",
            " [-1.19133191e+00 -4.39598103e-01]\n",
            " [ 2.61046726e-01  1.42295499e+00]\n",
            " [-4.77965711e-01  1.14822032e+00]\n",
            " [ 7.44911095e-02  2.07746781e-01]\n",
            " [-4.20670546e-01  8.19697344e-01]\n",
            " [ 7.25638767e-01  2.37167261e+00]\n",
            " [-1.04370429e+00 -5.62049265e-02]\n",
            " [ 6.01454563e-01  2.18201887e+00]\n",
            " [ 1.38759674e-01  1.47518981e+00]\n",
            " [-8.41124399e-01  3.19554637e-01]\n",
            " [-4.72686923e-01  1.47823497e+00]\n",
            " [-5.29414382e-01  2.96136491e-02]\n",
            " [-1.43693398e-01  1.00422814e+00]\n",
            " [ 4.62160556e-01  1.31195693e+00]\n",
            " [-6.45485399e-01  8.87659748e-01]\n",
            " [ 4.40184372e-01  1.54979441e+00]\n",
            " [-9.17707186e-01  1.34996671e+00]\n",
            " [-3.08991857e-02  6.41199552e-01]\n",
            " [-1.87582034e-01  5.70474676e-02]\n",
            " [ 6.87115867e-02  1.53281144e+00]\n",
            " [-6.28963576e-01  1.81340228e-01]\n",
            " [ 1.92827122e-02  1.74964587e+00]\n",
            " [-1.31309930e+00 -1.96650725e-01]\n",
            " [-3.30925312e-01  1.49055629e+00]\n",
            " [-8.50169944e-01 -1.91170114e-01]\n",
            " [-1.37643774e-01  1.67674491e+00]\n",
            " [-5.17501489e-02  1.30607700e+00]\n",
            " [-1.07351711e+00  1.01394523e+00]\n",
            " [ 2.14874699e-01  1.79229394e+00]\n",
            " [-5.05885138e-01 -1.85804289e-02]\n",
            " [-4.51461631e-01  6.54489015e-02]\n",
            " [ 5.53474521e-01  2.34761163e+00]\n",
            " [-7.39913565e-01  2.48154967e-01]\n",
            " [-3.67889760e-01  9.91079624e-01]\n",
            " [ 4.92359602e-01  1.48484928e+00]\n",
            " [-2.13416837e-01  1.26155380e+00]]\n"
          ],
          "name": "stdout"
        }
      ]
    },
    {
      "cell_type": "code",
      "metadata": {
        "colab": {
          "base_uri": "https://localhost:8080/",
          "height": 204
        },
        "id": "CkB4kfLFpk3e",
        "outputId": "8c32f852-a992-472f-f9bd-00793532a735"
      },
      "source": [
        "projected_penguins = pd.DataFrame(B, columns = ['PC1', 'PC2'])\n",
        "projected_penguins.head()"
      ],
      "execution_count": 63,
      "outputs": [
        {
          "output_type": "execute_result",
          "data": {
            "text/html": [
              "<div>\n",
              "<style scoped>\n",
              "    .dataframe tbody tr th:only-of-type {\n",
              "        vertical-align: middle;\n",
              "    }\n",
              "\n",
              "    .dataframe tbody tr th {\n",
              "        vertical-align: top;\n",
              "    }\n",
              "\n",
              "    .dataframe thead th {\n",
              "        text-align: right;\n",
              "    }\n",
              "</style>\n",
              "<table border=\"1\" class=\"dataframe\">\n",
              "  <thead>\n",
              "    <tr style=\"text-align: right;\">\n",
              "      <th></th>\n",
              "      <th>PC1</th>\n",
              "      <th>PC2</th>\n",
              "    </tr>\n",
              "  </thead>\n",
              "  <tbody>\n",
              "    <tr>\n",
              "      <th>0</th>\n",
              "      <td>-1.853593</td>\n",
              "      <td>0.032069</td>\n",
              "    </tr>\n",
              "    <tr>\n",
              "      <th>1</th>\n",
              "      <td>-1.316254</td>\n",
              "      <td>-0.443527</td>\n",
              "    </tr>\n",
              "    <tr>\n",
              "      <th>2</th>\n",
              "      <td>-1.376605</td>\n",
              "      <td>-0.161230</td>\n",
              "    </tr>\n",
              "    <tr>\n",
              "      <th>3</th>\n",
              "      <td>-1.885288</td>\n",
              "      <td>-0.012351</td>\n",
              "    </tr>\n",
              "    <tr>\n",
              "      <th>4</th>\n",
              "      <td>-1.919981</td>\n",
              "      <td>0.817598</td>\n",
              "    </tr>\n",
              "  </tbody>\n",
              "</table>\n",
              "</div>"
            ],
            "text/plain": [
              "        PC1       PC2\n",
              "0 -1.853593  0.032069\n",
              "1 -1.316254 -0.443527\n",
              "2 -1.376605 -0.161230\n",
              "3 -1.885288 -0.012351\n",
              "4 -1.919981  0.817598"
            ]
          },
          "metadata": {
            "tags": []
          },
          "execution_count": 63
        }
      ]
    },
    {
      "cell_type": "code",
      "metadata": {
        "colab": {
          "base_uri": "https://localhost:8080/",
          "height": 350
        },
        "id": "v-Q0cAnrp1Sh",
        "outputId": "2bf06b90-1517-45de-89b4-432706081c49"
      },
      "source": [
        "sns.scatterplot(projected_penguins['PC1'], projected_penguins['PC2'], hue =penguins['species'] )"
      ],
      "execution_count": 64,
      "outputs": [
        {
          "output_type": "stream",
          "text": [
            "/usr/local/lib/python3.6/dist-packages/seaborn/_decorators.py:43: FutureWarning: Pass the following variables as keyword args: x, y. From version 0.12, the only valid positional argument will be `data`, and passing other arguments without an explicit keyword will result in an error or misinterpretation.\n",
            "  FutureWarning\n"
          ],
          "name": "stderr"
        },
        {
          "output_type": "execute_result",
          "data": {
            "text/plain": [
              "<matplotlib.axes._subplots.AxesSubplot at 0x7f74a3ec50b8>"
            ]
          },
          "metadata": {
            "tags": []
          },
          "execution_count": 64
        },
        {
          "output_type": "display_data",
          "data": {
            "image/png": "[encoded data removed]",
            "text/plain": [
              "<Figure size 432x288 with 1 Axes>"
            ]
          },
          "metadata": {
            "tags": []
          }
        }
      ]
    },
    {
      "cell_type": "code",
      "metadata": {
        "colab": {
          "base_uri": "https://localhost:8080/",
          "height": 204
        },
        "id": "WswSOYpiqSlU",
        "outputId": "05813648-1755-4f6b-88d2-e67c5b366c31"
      },
      "source": [
        "###### 다른 방법\n",
        "penguins.head()\n",
        "penguins_info = penguins.select_dtypes(exclude='float')\n",
        "penguins_info.head()"
      ],
      "execution_count": 65,
      "outputs": [
        {
          "output_type": "execute_result",
          "data": {
            "text/html": [
              "<div>\n",
              "<style scoped>\n",
              "    .dataframe tbody tr th:only-of-type {\n",
              "        vertical-align: middle;\n",
              "    }\n",
              "\n",
              "    .dataframe tbody tr th {\n",
              "        vertical-align: top;\n",
              "    }\n",
              "\n",
              "    .dataframe thead th {\n",
              "        text-align: right;\n",
              "    }\n",
              "</style>\n",
              "<table border=\"1\" class=\"dataframe\">\n",
              "  <thead>\n",
              "    <tr style=\"text-align: right;\">\n",
              "      <th></th>\n",
              "      <th>species</th>\n",
              "      <th>island</th>\n",
              "      <th>sex</th>\n",
              "      <th>year</th>\n",
              "    </tr>\n",
              "  </thead>\n",
              "  <tbody>\n",
              "    <tr>\n",
              "      <th>0</th>\n",
              "      <td>Adelie</td>\n",
              "      <td>Torgersen</td>\n",
              "      <td>male</td>\n",
              "      <td>2007</td>\n",
              "    </tr>\n",
              "    <tr>\n",
              "      <th>1</th>\n",
              "      <td>Adelie</td>\n",
              "      <td>Torgersen</td>\n",
              "      <td>female</td>\n",
              "      <td>2007</td>\n",
              "    </tr>\n",
              "    <tr>\n",
              "      <th>2</th>\n",
              "      <td>Adelie</td>\n",
              "      <td>Torgersen</td>\n",
              "      <td>female</td>\n",
              "      <td>2007</td>\n",
              "    </tr>\n",
              "    <tr>\n",
              "      <th>4</th>\n",
              "      <td>Adelie</td>\n",
              "      <td>Torgersen</td>\n",
              "      <td>female</td>\n",
              "      <td>2007</td>\n",
              "    </tr>\n",
              "    <tr>\n",
              "      <th>5</th>\n",
              "      <td>Adelie</td>\n",
              "      <td>Torgersen</td>\n",
              "      <td>male</td>\n",
              "      <td>2007</td>\n",
              "    </tr>\n",
              "  </tbody>\n",
              "</table>\n",
              "</div>"
            ],
            "text/plain": [
              "  species     island     sex  year\n",
              "0  Adelie  Torgersen    male  2007\n",
              "1  Adelie  Torgersen  female  2007\n",
              "2  Adelie  Torgersen  female  2007\n",
              "4  Adelie  Torgersen  female  2007\n",
              "5  Adelie  Torgersen    male  2007"
            ]
          },
          "metadata": {
            "tags": []
          },
          "execution_count": 65
        }
      ]
    },
    {
      "cell_type": "code",
      "metadata": {
        "colab": {
          "base_uri": "https://localhost:8080/",
          "height": 204
        },
        "id": "bYVi2WNPrDJB",
        "outputId": "10e827ce-fe93-4862-8f93-12f1aa5f8710"
      },
      "source": [
        "penguins_data2 = penguins.select_dtypes('float')\n",
        "penguins_data2.head()"
      ],
      "execution_count": 66,
      "outputs": [
        {
          "output_type": "execute_result",
          "data": {
            "text/html": [
              "<div>\n",
              "<style scoped>\n",
              "    .dataframe tbody tr th:only-of-type {\n",
              "        vertical-align: middle;\n",
              "    }\n",
              "\n",
              "    .dataframe tbody tr th {\n",
              "        vertical-align: top;\n",
              "    }\n",
              "\n",
              "    .dataframe thead th {\n",
              "        text-align: right;\n",
              "    }\n",
              "</style>\n",
              "<table border=\"1\" class=\"dataframe\">\n",
              "  <thead>\n",
              "    <tr style=\"text-align: right;\">\n",
              "      <th></th>\n",
              "      <th>bill_length_mm</th>\n",
              "      <th>bill_depth_mm</th>\n",
              "      <th>flipper_length_mm</th>\n",
              "      <th>body_mass_g</th>\n",
              "    </tr>\n",
              "  </thead>\n",
              "  <tbody>\n",
              "    <tr>\n",
              "      <th>0</th>\n",
              "      <td>39.1</td>\n",
              "      <td>18.7</td>\n",
              "      <td>181.0</td>\n",
              "      <td>3750.0</td>\n",
              "    </tr>\n",
              "    <tr>\n",
              "      <th>1</th>\n",
              "      <td>39.5</td>\n",
              "      <td>17.4</td>\n",
              "      <td>186.0</td>\n",
              "      <td>3800.0</td>\n",
              "    </tr>\n",
              "    <tr>\n",
              "      <th>2</th>\n",
              "      <td>40.3</td>\n",
              "      <td>18.0</td>\n",
              "      <td>195.0</td>\n",
              "      <td>3250.0</td>\n",
              "    </tr>\n",
              "    <tr>\n",
              "      <th>4</th>\n",
              "      <td>36.7</td>\n",
              "      <td>19.3</td>\n",
              "      <td>193.0</td>\n",
              "      <td>3450.0</td>\n",
              "    </tr>\n",
              "    <tr>\n",
              "      <th>5</th>\n",
              "      <td>39.3</td>\n",
              "      <td>20.6</td>\n",
              "      <td>190.0</td>\n",
              "      <td>3650.0</td>\n",
              "    </tr>\n",
              "  </tbody>\n",
              "</table>\n",
              "</div>"
            ],
            "text/plain": [
              "   bill_length_mm  bill_depth_mm  flipper_length_mm  body_mass_g\n",
              "0            39.1           18.7              181.0       3750.0\n",
              "1            39.5           17.4              186.0       3800.0\n",
              "2            40.3           18.0              195.0       3250.0\n",
              "4            36.7           19.3              193.0       3450.0\n",
              "5            39.3           20.6              190.0       3650.0"
            ]
          },
          "metadata": {
            "tags": []
          },
          "execution_count": 66
        }
      ]
    },
    {
      "cell_type": "code",
      "metadata": {
        "id": "_6TNgqQN39Ns"
      },
      "source": [
        "from sklearn.preprocessing import StandardScaler"
      ],
      "execution_count": 68,
      "outputs": []
    },
    {
      "cell_type": "code",
      "metadata": {
        "colab": {
          "base_uri": "https://localhost:8080/"
        },
        "id": "CCzGmg6f4YVT",
        "outputId": "67d972b3-a5f6-490a-950c-e203deb4c600"
      },
      "source": [
        "data_scaled = StandardScaler().fit_transform(penguins_data2)"
      ],
      "execution_count": 79,
      "outputs": [
        {
          "output_type": "execute_result",
          "data": {
            "text/plain": [
              "(333, 4)"
            ]
          },
          "metadata": {
            "tags": []
          },
          "execution_count": 79
        }
      ]
    },
    {
      "cell_type": "code",
      "metadata": {
        "colab": {
          "base_uri": "https://localhost:8080/",
          "height": 204
        },
        "id": "YYrwpL2pq3-T",
        "outputId": "27baa0d0-6257-4d81-b5e1-f12eb7b5f66a"
      },
      "source": [
        "\n",
        "pca = PCA(n_components=2)\n",
        "pca.fit(data_scaled)\n",
        "pca_transform = pca.transform(data_scaled)\n",
        "penguins_df = pd.DataFrame(data=pca_transform, columns=['PC1', 'PC2'])\n",
        "penguins_df.head()\n"
      ],
      "execution_count": 83,
      "outputs": [
        {
          "output_type": "execute_result",
          "data": {
            "text/html": [
              "<div>\n",
              "<style scoped>\n",
              "    .dataframe tbody tr th:only-of-type {\n",
              "        vertical-align: middle;\n",
              "    }\n",
              "\n",
              "    .dataframe tbody tr th {\n",
              "        vertical-align: top;\n",
              "    }\n",
              "\n",
              "    .dataframe thead th {\n",
              "        text-align: right;\n",
              "    }\n",
              "</style>\n",
              "<table border=\"1\" class=\"dataframe\">\n",
              "  <thead>\n",
              "    <tr style=\"text-align: right;\">\n",
              "      <th></th>\n",
              "      <th>PC1</th>\n",
              "      <th>PC2</th>\n",
              "    </tr>\n",
              "  </thead>\n",
              "  <tbody>\n",
              "    <tr>\n",
              "      <th>0</th>\n",
              "      <td>-1.853593</td>\n",
              "      <td>0.032069</td>\n",
              "    </tr>\n",
              "    <tr>\n",
              "      <th>1</th>\n",
              "      <td>-1.316254</td>\n",
              "      <td>-0.443527</td>\n",
              "    </tr>\n",
              "    <tr>\n",
              "      <th>2</th>\n",
              "      <td>-1.376605</td>\n",
              "      <td>-0.161230</td>\n",
              "    </tr>\n",
              "    <tr>\n",
              "      <th>3</th>\n",
              "      <td>-1.885288</td>\n",
              "      <td>-0.012351</td>\n",
              "    </tr>\n",
              "    <tr>\n",
              "      <th>4</th>\n",
              "      <td>-1.919981</td>\n",
              "      <td>0.817598</td>\n",
              "    </tr>\n",
              "  </tbody>\n",
              "</table>\n",
              "</div>"
            ],
            "text/plain": [
              "        PC1       PC2\n",
              "0 -1.853593  0.032069\n",
              "1 -1.316254 -0.443527\n",
              "2 -1.376605 -0.161230\n",
              "3 -1.885288 -0.012351\n",
              "4 -1.919981  0.817598"
            ]
          },
          "metadata": {
            "tags": []
          },
          "execution_count": 83
        }
      ]
    },
    {
      "cell_type": "code",
      "metadata": {
        "colab": {
          "base_uri": "https://localhost:8080/",
          "height": 350
        },
        "id": "e5ylfb6IsUNt",
        "outputId": "61f1adbf-fe4b-4401-e8e7-868548e1801c"
      },
      "source": [
        "sns.scatterplot(penguins_df['PC1'], penguins_df['PC2'], hue=penguins_info['species'])"
      ],
      "execution_count": 86,
      "outputs": [
        {
          "output_type": "stream",
          "text": [
            "/usr/local/lib/python3.6/dist-packages/seaborn/_decorators.py:43: FutureWarning: Pass the following variables as keyword args: x, y. From version 0.12, the only valid positional argument will be `data`, and passing other arguments without an explicit keyword will result in an error or misinterpretation.\n",
            "  FutureWarning\n"
          ],
          "name": "stderr"
        },
        {
          "output_type": "execute_result",
          "data": {
            "text/plain": [
              "<matplotlib.axes._subplots.AxesSubplot at 0x7f74a3ddb630>"
            ]
          },
          "metadata": {
            "tags": []
          },
          "execution_count": 86
        },
        {
          "output_type": "display_data",
          "data": {
            "image/png": "[encoded data removed]",
            "text/plain": [
              "<Figure size 432x288 with 1 Axes>"
            ]
          },
          "metadata": {
            "tags": []
          }
        }
      ]
    },
    {
      "cell_type": "markdown",
      "metadata": {
        "id": "RQx7UvsucIrL"
      },
      "source": [
        "## 🔥 도전 과제\n",
        "\n",
        "모두 하면 됩니다.\n",
        "\n",
        "### 1.  \"One-hot-encoding\"을 이용하여 categorical 데이터를 numerical 하게 변환시켜서 PCA를 다시 시행해보세요.\n",
        "\n",
        "### 2. \"Scree Plot\" 에 대해서 알아보고, 위에서 PCA로 만든 데이터셋을 사용하여 만들어보세요. 90%의 내용을 설명하기 위해서, 몇개의 PC를 사용해야 하나요?\n"
      ]
    },
    {
      "cell_type": "code",
      "metadata": {
        "id": "LDWgV_vG0UWb"
      },
      "source": [
        ""
      ],
      "execution_count": null,
      "outputs": []
    }
  ]
}